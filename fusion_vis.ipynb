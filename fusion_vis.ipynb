{
 "cells": [
  {
   "cell_type": "code",
   "id": "initial_id",
   "metadata": {
    "collapsed": true,
    "ExecuteTime": {
     "end_time": "2024-11-21T23:13:10.678491Z",
     "start_time": "2024-11-21T23:13:10.430453Z"
    }
   },
   "source": [
    "from radar_fusion import fuse_5_frames\n",
    "from vod.configuration import KittiLocations\n",
    "from vod.frame import FrameTransformMatrix, transform_pcl, FrameDataLoader\n",
    "import numpy as np\n",
    "import k3d\n",
    "from utils import read_kitti_label_file, plot_moving_objs_bbox\n",
    "kitti_locations = KittiLocations(root_dir='/datasets/vod')\n",
    "print('Radar data path:', kitti_locations.radar_dir)"
   ],
   "outputs": [
    {
     "name": "stdout",
     "output_type": "stream",
     "text": [
      "Radar data path: /datasets/vod/radar/training/velodyne\n"
     ]
    }
   ],
   "execution_count": 1
  },
  {
   "metadata": {
    "ExecuteTime": {
     "end_time": "2024-11-21T23:14:33.867970Z",
     "start_time": "2024-11-21T23:14:33.855388Z"
    }
   },
   "cell_type": "code",
   "source": [
    "frame_number = 3629\n",
    "frame_data = FrameDataLoader(kitti_locations=kitti_locations, frame_number=str(frame_number).zfill(5))\n",
    "transforms = FrameTransformMatrix(frame_data)\n",
    "_, moving_objs = read_kitti_label_file(frame_data.raw_labels)\n",
    "lidar_points_cf = transform_pcl(frame_data.lidar_data, transforms.t_camera_lidar)[:,:3]\n",
    "\n",
    "my_fused = np.fromfile(f'/datasets/vod/my_radar_5frames/training/velodyne/{str(frame_number).zfill(5)}.bin', dtype=np.float32).reshape(-1, 7) # 雷达坐标系\n",
    "my_fused_cf = transform_pcl(my_fused, transforms.t_camera_radar)[:,:3] # 转换到相机坐标系\n",
    "original_fused_radar_pc = np.fromfile(f'/datasets/vod/radar_5frames/training/velodyne/{str(frame_number).zfill(5)}.bin', dtype=np.float32).reshape(-1, 7) # 雷达坐标系\n",
    "original_cf_fused_radar_pc = transform_pcl(original_fused_radar_pc, transforms.t_camera_radar)[:,:3]\n",
    "\n",
    "print(original_fused_radar_pc.shape)\n",
    "print(my_fused.shape)\n"
   ],
   "id": "531a2a50a453a39",
   "outputs": [
    {
     "name": "stdout",
     "output_type": "stream",
     "text": [
      "(1620, 7)\n",
      "(1620, 7)\n"
     ]
    }
   ],
   "execution_count": 6
  },
  {
   "metadata": {
    "ExecuteTime": {
     "end_time": "2024-11-21T23:14:36.233106Z",
     "start_time": "2024-11-21T23:14:36.190279Z"
    }
   },
   "cell_type": "code",
   "source": [
    "plot = k3d.plot(camera_auto_fit=False, axes_helper=True, grid_visible=False)\n",
    "plot_moving_objs_bbox(plot, moving_objs, transforms.t_lidar_camera, transforms.t_camera_lidar)\n",
    "plot += k3d.points(np.array([0,0,0]), point_size=0.3, color=0x000000)\n",
    "plot += k3d.points(lidar_points_cf, point_size=0.05, color=0x000000)\n",
    "\n",
    "plot += k3d.points(my_fused_cf, point_size=0.3, color=0xff0000) #红色, 自行融合后的雷达点云\n",
    "plot += k3d.points(original_cf_fused_radar_pc, point_size=0.3, color=0x0000ff) # 蓝色，原始雷达点云\n",
    "\n",
    "plot.display()"
   ],
   "id": "f8363082a7982b28",
   "outputs": [
    {
     "data": {
      "text/plain": [
       "Output()"
      ],
      "application/vnd.jupyter.widget-view+json": {
       "version_major": 2,
       "version_minor": 0,
       "model_id": "e33d6dc4915f4297af86cb423f480bc7"
      }
     },
     "metadata": {},
     "output_type": "display_data"
    }
   ],
   "execution_count": 7
  }
 ],
 "metadata": {
  "kernelspec": {
   "display_name": "Python 3",
   "language": "python",
   "name": "python3"
  },
  "language_info": {
   "codemirror_mode": {
    "name": "ipython",
    "version": 2
   },
   "file_extension": ".py",
   "mimetype": "text/x-python",
   "name": "python",
   "nbconvert_exporter": "python",
   "pygments_lexer": "ipython2",
   "version": "2.7.6"
  }
 },
 "nbformat": 4,
 "nbformat_minor": 5
}
