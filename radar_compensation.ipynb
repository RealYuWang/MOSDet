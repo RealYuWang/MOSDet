{
 "cells": [
  {
   "cell_type": "code",
   "id": "initial_id",
   "metadata": {
    "collapsed": true,
    "ExecuteTime": {
     "end_time": "2024-11-21T19:19:24.968940Z",
     "start_time": "2024-11-21T19:19:24.964424Z"
    }
   },
   "source": [
    "from vod.configuration import KittiLocations\n",
    "from vod.frame import FrameTransformMatrix, transform_pcl,FrameDataLoader\n",
    "from vod.visualization import get_radar_velocity_vectors\n",
    "import k3d\n",
    "import numpy as np\n",
    "from utils import read_kitti_label_file, if_points_in_moving_objects, plot_moving_objs_bbox\n",
    "kitti_locations = KittiLocations(root_dir='/datasets/vod', output_dir='./output')"
   ],
   "outputs": [],
   "execution_count": 10
  },
  {
   "metadata": {
    "ExecuteTime": {
     "end_time": "2024-11-21T19:24:44.988018Z",
     "start_time": "2024-11-21T19:24:44.937907Z"
    }
   },
   "cell_type": "code",
   "source": [
    "frame_data = FrameDataLoader(kitti_locations=kitti_locations, frame_number=\"09928\")\n",
    "transforms = FrameTransformMatrix(frame_data)\n",
    "_, moving_objs = read_kitti_label_file(frame_data.raw_labels)\n",
    "print(f\"Number of moving objects: {len(moving_objs)}\")\n",
    "\n",
    "radar_data = frame_data.radar_data  # (N, 7), Radar 坐标系\n",
    "radar_points_cf = transform_pcl(radar_data, transforms.t_camera_radar)[:,:3] # (N, 3)\n",
    "compensated_radial_velo = frame_data.radar_data[:, 5]\n",
    "\n",
    "moving_points = []\n",
    "static_points = []\n",
    "moving_points_velo = []\n",
    "for idx, point in enumerate(radar_points_cf):\n",
    "    res, _ = if_points_in_moving_objects(point, moving_objs, transforms.t_lidar_camera, transforms.t_camera_lidar)\n",
    "    if res:\n",
    "        moving_points.append(point)\n",
    "        moving_points_velo.append(compensated_radial_velo[idx])\n",
    "    else:\n",
    "        static_points.append(point)\n",
    "print(f\"Number of moving points: {len(moving_points)}\")\n",
    "\n",
    "cf_moving_points = np.array(moving_points) # N x 3\n",
    "cf_static_points = np.array(static_points)\n",
    "if len(cf_moving_points) > 0:\n",
    "    moving_points_velo = np.array(moving_points_velo)\n",
    "    moving_points_velo_vectors = get_radar_velocity_vectors(cf_moving_points, moving_points_velo)\n",
    "    moving_points_compensated = cf_moving_points + 0.1 * moving_points_velo_vectors\n"
   ],
   "id": "ffb8f3ebe474d6a1",
   "outputs": [
    {
     "name": "stdout",
     "output_type": "stream",
     "text": [
      "Number of moving objects: 1\n",
      "Number of moving points: 3\n"
     ]
    }
   ],
   "execution_count": 15
  },
  {
   "metadata": {
    "ExecuteTime": {
     "end_time": "2024-11-21T19:24:48.719624Z",
     "start_time": "2024-11-21T19:24:48.679073Z"
    }
   },
   "cell_type": "code",
   "source": [
    "plot = k3d.plot(camera_auto_fit=False, axes_helper=True, grid_visible=False)\n",
    "plot += k3d.points(np.array([0,0,0]), point_size=0.5, color=0x00FF00) # 原点\n",
    "plot_moving_objs_bbox(plot, moving_objs, transforms.t_lidar_camera, transforms.t_camera_lidar)\n",
    "lidar_points_cf = transform_pcl(frame_data.lidar_data, transforms.t_camera_lidar)[:,:3]\n",
    "plot += k3d.points(lidar_points_cf, point_size=0.05, color=0x000000) # lidar points\n",
    "\n",
    "plot += k3d.points(cf_static_points, point_size=0.3, color=0x000fff) # static radar points\n",
    "if len(cf_moving_points) > 0:\n",
    "    plot += k3d.points(cf_moving_points, point_size=0.3, color=0x00ff00) # moving radar points\n",
    "    plot += k3d.points(moving_points_compensated, point_size=0.3, color=0xff0000) # compensated radar points\n",
    "    # plot += k3d.vectors(origins=cf_moving_points, vectors=moving_points_velo_vectors - cf_moving_points, colors=0xff0000)\n",
    "\n",
    "plot.display()\n"
   ],
   "id": "67634d9305a8312",
   "outputs": [
    {
     "data": {
      "text/plain": [
       "Output()"
      ],
      "application/vnd.jupyter.widget-view+json": {
       "version_major": 2,
       "version_minor": 0,
       "model_id": "0db012d41d3e4275a15c520cb919fe89"
      }
     },
     "metadata": {},
     "output_type": "display_data"
    }
   ],
   "execution_count": 16
  }
 ],
 "metadata": {
  "kernelspec": {
   "display_name": "Python 3",
   "language": "python",
   "name": "python3"
  },
  "language_info": {
   "codemirror_mode": {
    "name": "ipython",
    "version": 2
   },
   "file_extension": ".py",
   "mimetype": "text/x-python",
   "name": "python",
   "nbconvert_exporter": "python",
   "pygments_lexer": "ipython2",
   "version": "2.7.6"
  }
 },
 "nbformat": 4,
 "nbformat_minor": 5
}
